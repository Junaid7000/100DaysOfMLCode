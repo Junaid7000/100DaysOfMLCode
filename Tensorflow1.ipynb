{
  "nbformat": 4,
  "nbformat_minor": 0,
  "metadata": {
    "colab": {
      "name": "Tensorflow1.ipynb",
      "version": "0.3.2",
      "provenance": [],
      "include_colab_link": true
    },
    "kernelspec": {
      "name": "python3",
      "display_name": "Python 3"
    }
  },
  "cells": [
    {
      "cell_type": "markdown",
      "metadata": {
        "id": "view-in-github",
        "colab_type": "text"
      },
      "source": [
        "[View in Colaboratory](https://colab.research.google.com/github/Junaid7000/100DaysOfMLCode/blob/master/Tensorflow1.ipynb)"
      ]
    },
    {
      "metadata": {
        "id": "VN9DErvRJagp",
        "colab_type": "code",
        "colab": {}
      },
      "cell_type": "code",
      "source": [
        "#import tensor flow liabrary\n",
        "import tensorflow as tf\n",
        "\n",
        "#to check version of tensorflow\n",
        "#tf.__version__\n",
        "\n",
        "#importing dataset from mnist containing 28x28 images of hand-written digit 0-9\n",
        "mnist = tf.keras.datasets.mnist\n",
        "\n",
        "#loading the data \n",
        "(X_train, y_train), (X_test, y_test) = mnist.load_data()"
      ],
      "execution_count": 0,
      "outputs": []
    },
    {
      "metadata": {
        "id": "yRvUGsfTMixB",
        "colab_type": "code",
        "colab": {}
      },
      "cell_type": "code",
      "source": [
        "#importing matplotlib \n",
        "import matplotlib.pyplot as plt\n",
        "\n",
        "plt.imshow(X_train[0], cmap = plt.cm.binary)\n",
        "plt.show()\n",
        "\n",
        "#to see tensor of pixel\n",
        "print(X_train[0])"
      ],
      "execution_count": 0,
      "outputs": []
    },
    {
      "metadata": {
        "id": "t895YQUDNnIf",
        "colab_type": "code",
        "colab": {}
      },
      "cell_type": "code",
      "source": [
        "#you observe values of gray scale are not scaled. hence, to scale it we use normalize method from keras.utils\n",
        "\n",
        "X_train = tf.keras.utils.normalize(X_train, axis = 1)\n",
        "X_test = tf.keras.utils.normalize(X_train, axis = 1)\n",
        "\n",
        "#now print the tensor & image\n",
        "print(X_train[0])\n",
        "plt.imshow(X_train[0], cmap = plt.cm.binary)\n",
        "plt.show()\n",
        "\n",
        "#you will observe, the color of image been light. this is due to normalization of gray scale value"
      ],
      "execution_count": 0,
      "outputs": []
    },
    {
      "metadata": {
        "id": "EH8FdnOBOogc",
        "colab_type": "code",
        "colab": {}
      },
      "cell_type": "code",
      "source": [
        "#build the model\n",
        "\n",
        "model = tf.keras.models.Sequential()\n",
        "\n",
        "#add the model\n",
        "#Our model is of size 28x28, to flatten the input layer we use keras.layers.Flatten() module \n",
        "model.add(tf.keras.layers.Flatten())\n",
        "\n",
        "#first hidden layer\n",
        "#Dense(no_of_units_in_hidden_layers,  activation_function)\n",
        "#relu = rectified linear\n",
        "\n",
        "model.add(tf.keras.layers.Dense(128, activation = tf.nn.relu))\n",
        "\n",
        "#second hidden layer\n",
        "model.add(tf.keras.layers.Dense(128, activation = tf.nn.relu))\n",
        "\n",
        "#Output layer, no of units = no of classification, here 10. \n",
        "#this is probability distribution, hence softmax is used\n",
        "model.add(tf.keras.layers.Dense(10, activation = tf.nn.softmax))\n"
      ],
      "execution_count": 0,
      "outputs": []
    },
    {
      "metadata": {
        "id": "yfTSSVKSRMPX",
        "colab_type": "code",
        "colab": {
          "base_uri": "https://localhost:8080/",
          "height": 147
        },
        "outputId": "d4c24e29-26fe-4e6f-cf8a-bf325d41dd83"
      },
      "cell_type": "code",
      "source": [
        "#compile the model\n",
        "#1. optimizer = we used 'adam' optimizer\n",
        "#2. loss metrix = degree of error\n",
        "#3. loss = we used 'sparse-categorical_crossentropy'\n",
        "\n",
        "model.compile(optimizer = 'adam',\n",
        "               loss ='sparse_categorical_crossentropy',\n",
        "               metrics =['accuracy'])\n",
        "\n",
        "#fitting training examples\n",
        "model.fit(X_train, y_train, epochs = 3)"
      ],
      "execution_count": 21,
      "outputs": [
        {
          "output_type": "stream",
          "text": [
            "Epoch 1/3\n",
            "60000/60000 [==============================] - 8s 139us/step - loss: 0.2650 - acc: 0.9228\n",
            "Epoch 2/3\n",
            "60000/60000 [==============================] - 8s 135us/step - loss: 0.1076 - acc: 0.9670\n",
            "Epoch 3/3\n",
            "60000/60000 [==============================] - 8s 130us/step - loss: 0.0737 - acc: 0.9768\n"
          ],
          "name": "stdout"
        },
        {
          "output_type": "execute_result",
          "data": {
            "text/plain": [
              "<tensorflow.python.keras.callbacks.History at 0x7fc049a1eeb8>"
            ]
          },
          "metadata": {
            "tags": []
          },
          "execution_count": 21
        }
      ]
    },
    {
      "metadata": {
        "id": "eWFp2hSzUD3S",
        "colab_type": "code",
        "colab": {
          "base_uri": "https://localhost:8080/",
          "height": 210
        },
        "outputId": "dab3f05f-7789-46c6-907a-dfa83bf32295"
      },
      "cell_type": "code",
      "source": [
        "#check whether model overfit or not\n",
        "#validate model(evaluate model)\n",
        "X_test.reshape(10000)\n",
        "val_lost, val_acc = model.evaluate(X_test, y_test)\n",
        "print(val_lost, val_acc)"
      ],
      "execution_count": 28,
      "outputs": [
        {
          "output_type": "error",
          "ename": "ValueError",
          "evalue": "ignored",
          "traceback": [
            "\u001b[0;31m---------------------------------------------------------------------------\u001b[0m",
            "\u001b[0;31mValueError\u001b[0m                                Traceback (most recent call last)",
            "\u001b[0;32m<ipython-input-28-2945efbb3be9>\u001b[0m in \u001b[0;36m<module>\u001b[0;34m()\u001b[0m\n\u001b[0;32m----> 1\u001b[0;31m \u001b[0mX_test\u001b[0m\u001b[0;34m.\u001b[0m\u001b[0mreshape\u001b[0m\u001b[0;34m(\u001b[0m\u001b[0;36m10000\u001b[0m\u001b[0;34m)\u001b[0m\u001b[0;34m\u001b[0m\u001b[0m\n\u001b[0m\u001b[1;32m      2\u001b[0m \u001b[0mval_lost\u001b[0m\u001b[0;34m,\u001b[0m \u001b[0mval_acc\u001b[0m \u001b[0;34m=\u001b[0m \u001b[0mmodel\u001b[0m\u001b[0;34m.\u001b[0m\u001b[0mevaluate\u001b[0m\u001b[0;34m(\u001b[0m\u001b[0mX_test\u001b[0m\u001b[0;34m,\u001b[0m \u001b[0my_test\u001b[0m\u001b[0;34m)\u001b[0m\u001b[0;34m\u001b[0m\u001b[0m\n\u001b[1;32m      3\u001b[0m \u001b[0mprint\u001b[0m\u001b[0;34m(\u001b[0m\u001b[0mval_lost\u001b[0m\u001b[0;34m,\u001b[0m \u001b[0mval_acc\u001b[0m\u001b[0;34m)\u001b[0m\u001b[0;34m\u001b[0m\u001b[0m\n",
            "\u001b[0;31mValueError\u001b[0m: cannot reshape array of size 47040000 into shape (10000,)"
          ]
        }
      ]
    },
    {
      "metadata": {
        "id": "zotPMQ-cV9pC",
        "colab_type": "code",
        "colab": {}
      },
      "cell_type": "code",
      "source": [
        "#to save\n",
        "#model.save('name of model')\n",
        "#to call a model\n",
        "#new model = tf.keras.models.load_model('model name')\n",
        "\n",
        "#to predict\n",
        "#model.predict(input_list)"
      ],
      "execution_count": 0,
      "outputs": []
    }
  ]
}