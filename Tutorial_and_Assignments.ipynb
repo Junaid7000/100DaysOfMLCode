{
 "cells": [
  {
   "cell_type": "markdown",
   "metadata": {},
   "source": [
    "# Assignments for Task 0\n",
    "\n",
    "### Libraries to learn:\n",
    "\n",
    "\n",
    "1. Jupyter Notebook\n",
    "2. Python\n",
    "3. Numpy and Matplotlib\n",
    "4. Pandas\n",
    "5. Sklearn"
   ]
  },
  {
   "cell_type": "markdown",
   "metadata": {},
   "source": [
    "## 0. Activating Python Virtual Environment\n",
    "\n",
    "Once you are done with software installation, you can activate your virtual environment by typing in your Terminal or Anaconda Prompt:\n",
    "\n",
    "`\n",
    "conda activate HC#9999_stage1\n",
    "`\n",
    "\n",
    "You should see your terminal prompt change to HC#9999_stage1. All the tasks below should be performed inside this environment."
   ]
  },
  {
   "cell_type": "markdown",
   "metadata": {},
   "source": [
    "## 1. Jupyter Notebook"
   ]
  },
  {
   "cell_type": "markdown",
   "metadata": {},
   "source": [
    "### 1.1. Quick introduction to Jupyter Notebook\n",
    "\n",
    "Jupyter Notebook has features like auto-completion, inline documentation, etc. which come handy when you are using lots of libraries in your code.\n",
    "\n",
    "You will learn how to use it on the way. But for starters:\n",
    "\n",
    "**1. Writing code**\n",
    "\n",
    "You can write code in the cells. To execute the code, press ```CTRL + ENTER```. To add a cell after executing current cell, use ```SHIFT + ENTER```.\n",
    "\n",
    "**2. Markdown in Jupyter notebook**\n",
    "\n",
    "You can use Markdown in Jupyter Notebook. Markdown is also written in cells but for that you need to convert code cell to Markdown cell. To do that go on a cell and press ```ESC``` key till the cell turns **BLUE** from **GREEN**. Now press ```M``` key and try to type anything and press ```SHIFT + ENTER```. To convert a cell back to code cell, use ```ESC``` till it turns **BLUE** and press ```Y``` key. \n",
    "\n",
    "**3. Auto-completion**\n",
    "\n",
    "Use ```TAB``` key to show suggestions for auto-complete.\n",
    "\n",
    "**4. Documentation**\n",
    "\n",
    "Use ```Shift + TAB``` keys to see documentation. The **more times you press TAB, you get to see more elaborate documentation**.\n",
    "\n",
    "\n",
    "### 1.2. Resources \n",
    "\n",
    "1. http://nbviewer.jupyter.org/github/jvns/pandas-cookbook/blob/master/cookbook/A%20quick%20tour%20of%20IPython%20Notebook.ipynb\n",
    "\n",
    "2. http://cs231n.github.io/ipython-tutorial/\n",
    "\n",
    "3. https://medium.com/codingthesmartway-com-blog/getting-started-with-jupyter-notebook-for-python-4e7082bd5d46\n"
   ]
  },
  {
   "cell_type": "markdown",
   "metadata": {},
   "source": [
    "## 2. Python\n",
    "\n",
    "**Python is a programming language** that we will use for all higher level tasks. It is very easy to learn and use. If you are familiar with any programming languages like C or Java you wouldn't have any difficulty picking it up. \n",
    "\n",
    "For Python, follow this tutorial by Stanford University: http://cs231n.github.io/python-numpy-tutorial/\n",
    "\n",
    "Also see [official documentation](https://docs.python.org/3.6/) or google search for specific python stuff."
   ]
  },
  {
   "cell_type": "markdown",
   "metadata": {},
   "source": [
    "# Assigment 1.1\n",
    "\n",
    "Create a function **sigmoid**. This should accept a list and return a list by evaluating sigmoid function on each element of the list."
   ]
  },
  {
   "cell_type": "code",
   "execution_count": null,
   "metadata": {
    "collapsed": true
   },
   "outputs": [],
   "source": [
    "def sigmoid(x_list):\n",
    "    '''\n",
    "    Returns a list of sigmoids\n",
    "\n",
    "    Sigmoid is defined as f(x) = 1/(1+e^-x)\n",
    "    '''\n",
    "    pass"
   ]
  },
  {
   "cell_type": "code",
   "execution_count": null,
   "metadata": {
    "collapsed": true
   },
   "outputs": [],
   "source": [
    "x_list = [1,2,3,4,-4]\n",
    "sigmoid(x_list)"
   ]
  },
  {
   "cell_type": "markdown",
   "metadata": {},
   "source": [
    "## 3. NumPy and Matplotlib\n",
    "\n",
    "**NumPy** is a numerical computing library for Python. You can use NumPy to do linear algebra operations easily in Python. It has a similar interface to other numerical computing softwares like Octave, MATLAB, etc.\n",
    "\n",
    "**Matplotlib** is a **plotting package for Python**. Soon enough in ML, we will have lots of columns of numbers and we might not be able to make sense of them by just looking at them. That is when Matplotlib is going to come handy. Matplotlib allows us to plot charts, histograms, images, etc. In simple words it is used for **data visualization**.\n",
    "\n",
    "The same tutorial we used for Python has enough of NumPy guide for us to start. Later we will use functions as needed and required. It also has basic Matplotlib usage guide.\n",
    "\n",
    "For NumPy and Matplotlib follow this tutorial by Stanford University to get started: http://cs231n.github.io/python-numpy-tutorial/"
   ]
  },
  {
   "cell_type": "markdown",
   "metadata": {},
   "source": [
    "# Assignment 1.2\n",
    "\n",
    "Complete functions for **forward pass** and **MSE**. Forward pass for linear regression and MSE is mean squared error calculated on predicted and actual output.\n",
    "\n",
    "<img src=\"./mse.png\" width=\"300\" height=\"200\" style=\"float: left;\">"
   ]
  },
  {
   "cell_type": "code",
   "execution_count": null,
   "metadata": {
    "collapsed": true
   },
   "outputs": [],
   "source": [
    "# NumPy Task\n",
    "# Complete the following functions\n",
    "\n",
    "# GIVEN:\n",
    "# X and y_actual\n",
    "\n",
    "# TODO:\n",
    "# forward_pass function: Forward pass of linear regression\n",
    "# mse function: calculates L2 loss between actual and predicted\n",
    "\n",
    "import numpy as np\n",
    "\n",
    "np.random.seed(seed=1)\n",
    "\n",
    "# TODO: Complete the function\n",
    "def forward_pass(W, x, b):\n",
    "    '''\n",
    "    Returns predicted y\n",
    "    y_pred = W*x + b\n",
    "    '''\n",
    "    pass\n",
    "\n",
    "\n",
    "# TODO: Complete the function\n",
    "def mse(y_pred, y_actual):\n",
    "    '''\n",
    "    Returns MSE = (1/N)*(Summation(i = 1 to N)[(y_pred - y_actual)^2])\n",
    "    '''\n",
    "    pass\n",
    "    \n",
    "    \n",
    "# Generate data\n",
    "# Lets assume input is a table of size 2000 * 2 where 2000 indicates number of samples and 2 are attributes, \n",
    "# one dependent and one independent.\n",
    "x = np.random.randn(2000, 1) # independent\n",
    "y_actual = 2*x + 5 + np.random.randn(2000, 1) # dependent\n",
    "\n",
    "\n",
    "# TODO:\n",
    "# Divide dataset: 1500 samples in training set and 500 samples in test set\n",
    "x_train = \n",
    "y_train = \n",
    "\n",
    "x_test = \n",
    "y_test = \n",
    "\n",
    "\n",
    "\n",
    "# Initialize random weight\n",
    "W = np.random.randn(1)\n",
    "b = np.random.randn(1)\n",
    "\n",
    "# Compute Forward Pass for x_train\n",
    "y_pred_train = forward_pass(W, x_train, b)\n",
    "\n",
    "# Compute MSE between 'y_train' and 'y_pred_train'\n",
    "print('Mean Squared Error for y_train and y_pred_train:', mse(y_train, y_pred_train))\n",
    "\n",
    "# Compute Forward Pass for x_test\n",
    "y_pred_test = forward_pass(W, x_test, b)\n",
    "\n",
    "# Compute MSE between 'y_test' and 'y_pred_test'\n",
    "print('Mean Squared Error for y_test and y_pred_test:', mse(y_test, y_pred_test))"
   ]
  },
  {
   "cell_type": "markdown",
   "metadata": {},
   "source": [
    "### Visualization with Matplotlib"
   ]
  },
  {
   "cell_type": "code",
   "execution_count": null,
   "metadata": {
    "collapsed": true
   },
   "outputs": [],
   "source": [
    "import matplotlib.pyplot as plt"
   ]
  },
  {
   "cell_type": "code",
   "execution_count": null,
   "metadata": {
    "collapsed": true
   },
   "outputs": [],
   "source": [
    "# Visualize predicted values\n",
    "\n",
    "# make a scatter plot with x_train and y_pred_train\n",
    "plt.scatter(x_train, y_pred_train)\n",
    "# put a title\n",
    "plt.title('Predicted')\n",
    "\n",
    "# generate and show a graph\n",
    "# unless we use show(), the graph is saved only in memory\n",
    "plt.show()"
   ]
  },
  {
   "cell_type": "code",
   "execution_count": null,
   "metadata": {
    "collapsed": true
   },
   "outputs": [],
   "source": [
    "# Visualize actual values\n",
    "\n",
    "plt.scatter(x_train, y_train)\n",
    "plt.title('Actual')\n",
    "plt.show()"
   ]
  },
  {
   "cell_type": "markdown",
   "metadata": {},
   "source": [
    "## 4. Pandas\n",
    "\n",
    "**Pandas** is used for data analytics. With Pandas, you can load datasets as tables. You can then perform operations on the data now present as a table.\n",
    "\n",
    "You can do operations with Pandas that you can do in Numpy or Python lists and dictionaries, like slicing, indexing, etc.\n",
    "\n",
    "### Resources\n",
    "\n",
    "1. ml-coding-tutorial.pdf is very brief and to the point for completing tasks\n",
    "2. Very good for overall understanding of pandas https://github.com/jvns/pandas-cookbook\n",
    "3. Tutorials from pandas official website http://pandas.pydata.org/pandas-docs/stable/tutorials.html "
   ]
  },
  {
   "cell_type": "code",
   "execution_count": null,
   "metadata": {
    "collapsed": true
   },
   "outputs": [],
   "source": [
    "import pandas as pd\n",
    "\n",
    "# we will read and check our data\n",
    "iris = pd.read_csv('https://raw.githubusercontent.com/mwaskom/seaborn-data/master/iris.csv')\n",
    "\n",
    "# pandas can load data from URIs like URLs, Filesystems, etc\n",
    "# try downloading some CSV files and load it with pandas\n",
    "iris.head()"
   ]
  },
  {
   "cell_type": "code",
   "execution_count": null,
   "metadata": {
    "collapsed": true
   },
   "outputs": [],
   "source": [
    "# This function will show simple stats for loaded dataset\n",
    "iris.describe()"
   ]
  },
  {
   "cell_type": "code",
   "execution_count": null,
   "metadata": {
    "collapsed": true
   },
   "outputs": [],
   "source": [
    "# Checking data types of individual columns\n",
    "iris.dtypes"
   ]
  },
  {
   "cell_type": "markdown",
   "metadata": {},
   "source": [
    "You can use indexing like in numpy and dictionaries in pandas too. There are also iloc, loc and ix for indexing."
   ]
  },
  {
   "cell_type": "code",
   "execution_count": null,
   "metadata": {
    "collapsed": true
   },
   "outputs": [],
   "source": [
    "# You can use loc, iloc and ix to select single or multiple rows\n",
    "print('Single row\\n------------\\n' + str(iris.iloc[0]))\n",
    "print('\\nMultiple rows\\n---------------\\n' + str(iris.iloc[[0, 5]]))"
   ]
  },
  {
   "cell_type": "code",
   "execution_count": null,
   "metadata": {
    "collapsed": true
   },
   "outputs": [],
   "source": [
    "# Pandas has dataframes and series as major data structures\n",
    "# This is a Series\n",
    "type(iris.loc[1]) # single row"
   ]
  },
  {
   "cell_type": "code",
   "execution_count": null,
   "metadata": {
    "collapsed": true
   },
   "outputs": [],
   "source": [
    "# This is a DataFrame\n",
    "type(iris.loc[[1,2]]) # multiple rows"
   ]
  },
  {
   "cell_type": "code",
   "execution_count": null,
   "metadata": {
    "collapsed": true
   },
   "outputs": [],
   "source": [
    "iris['sepal_length'] # single column"
   ]
  },
  {
   "cell_type": "code",
   "execution_count": null,
   "metadata": {
    "collapsed": true
   },
   "outputs": [],
   "source": [
    "iris[['sepal_length', 'sepal_width']] # multiple columns"
   ]
  },
  {
   "cell_type": "code",
   "execution_count": null,
   "metadata": {
    "collapsed": true
   },
   "outputs": [],
   "source": [
    "iris['species'].unique()"
   ]
  },
  {
   "cell_type": "markdown",
   "metadata": {},
   "source": [
    "## 5. Sklearn\n",
    "\n",
    "**Scikit learn** is a library for machine learning. It has several model architectures which can learn data that you provide. Even if you are writing your own model architectures or algorithms, sklearn comes in handy for data pre-processing operations like normalization and calculating errors and accuracies, etc. \n",
    "\n",
    "### Resources\n",
    "1. ml-coding-tutorial.pdf is very brief and to the point for completing tasks\n",
    "2. Tutorials from sklearn official website http://scikit-learn.org/stable/tutorial/index.html"
   ]
  },
  {
   "cell_type": "code",
   "execution_count": null,
   "metadata": {
    "collapsed": true
   },
   "outputs": [],
   "source": [
    "from sklearn.linear_model import LinearRegression"
   ]
  },
  {
   "cell_type": "markdown",
   "metadata": {},
   "source": [
    "We will now fit the above **\"x\"** and **\"y_actual\"** values and again evaluate the loss after fitting unlike before where we never trained the algorithm."
   ]
  },
  {
   "cell_type": "code",
   "execution_count": null,
   "metadata": {
    "collapsed": true
   },
   "outputs": [],
   "source": [
    "# import the model and create an object of it\n",
    "model = LinearRegression()\n",
    "\n",
    "# every model or estimator as sklearn likes to call it will have a fit method\n",
    "# use it with train data\n",
    "model.fit(x_train, y_train)\n",
    "\n",
    "# similarly the model will have a predict function to make predictions on new data\n",
    "# evaluate model accuracy with train and test data\n",
    "y_pred = model.predict(x_test)"
   ]
  },
  {
   "cell_type": "code",
   "execution_count": null,
   "metadata": {
    "collapsed": true
   },
   "outputs": [],
   "source": [
    "print('Mean Squared Error:', mse(y_pred, y_train)) # notice the difference in values"
   ]
  },
  {
   "cell_type": "code",
   "execution_count": null,
   "metadata": {
    "collapsed": true
   },
   "outputs": [],
   "source": [
    "plt.scatter(x_test, y_pred)\n",
    "plt.title('Predicted')\n",
    "plt.show()"
   ]
  },
  {
   "cell_type": "code",
   "execution_count": null,
   "metadata": {
    "collapsed": true
   },
   "outputs": [],
   "source": [
    "plt.scatter(x_test, y_test)\n",
    "plt.title('Actual')\n",
    "plt.show()"
   ]
  },
  {
   "cell_type": "markdown",
   "metadata": {},
   "source": [
    "# Assignment 1.3\n",
    "Use pandas to load iris dataset. Iris dataset has 3 types flowers in it, you can see from above. Your task is to figure out name of the flower given other parameters.\n",
    "\n",
    "### Tasks:\n",
    "1. Load iris dataset as pandas dataframe.\n",
    "2. Shuffle the dataset.\n",
    "3. Seperate the dataframe into independent X and dependent y parameters. \n",
    "4. Split X and y into train and test set. Use train_test_split from sklearn.model_selection.\n",
    "5. Use SVC classifier from sklearn. Checkout [sklearn docs](http://scikit-learn.org/stable/documentation.html) or just google how to use SVC. The interface is similar to LinearRegression.\n",
    "6. Fit the train data on it.\n",
    "7. Predict y on X_test.\n",
    "8. Find loss."
   ]
  },
  {
   "cell_type": "code",
   "execution_count": null,
   "metadata": {
    "collapsed": true
   },
   "outputs": [],
   "source": [
    "# 1. load pandas library and load iris data set as a dataframe\n",
    "\n"
   ]
  },
  {
   "cell_type": "code",
   "execution_count": null,
   "metadata": {
    "collapsed": true
   },
   "outputs": [],
   "source": [
    "# 2. Data-preprocessing: shuffle the dataframe using sample() function pre-defined on iris dataframe\n",
    "# You can also google search how to shuffle dataframe\n",
    "# Additionally comment on why do you need to shuffle the dataframe\n",
    "\n"
   ]
  },
  {
   "cell_type": "code",
   "execution_count": null,
   "metadata": {
    "collapsed": true
   },
   "outputs": [],
   "source": [
    "# 3. split iris dataframe columns into two set: \n",
    "# - dependent parameters X (four columns)\n",
    "# - independent parameters y which is name of the flower (1 column)\n",
    "\n",
    "\n",
    "# select all rows leaving only flower name column using iloc\n",
    "# input variables; other than flower information\n",
    "# output variable; only flower information\n",
    "\n"
   ]
  },
  {
   "cell_type": "code",
   "execution_count": null,
   "metadata": {
    "collapsed": true
   },
   "outputs": [],
   "source": [
    "# 4. divide X and y into train and test set\n",
    "# use train_test_split from sklearn.model_selection\n",
    "\n"
   ]
  },
  {
   "cell_type": "code",
   "execution_count": null,
   "metadata": {
    "collapsed": true
   },
   "outputs": [],
   "source": [
    "# 5. import the model\n",
    "\n",
    "\n",
    "# 6. Fit the model\n",
    "# use SVC from sklearn.svm \n",
    "\n"
   ]
  },
  {
   "cell_type": "code",
   "execution_count": null,
   "metadata": {
    "collapsed": true
   },
   "outputs": [],
   "source": [
    "# 7. Predict the test examples\n",
    "\n"
   ]
  },
  {
   "cell_type": "code",
   "execution_count": null,
   "metadata": {
    "collapsed": true
   },
   "outputs": [],
   "source": [
    "# 8. Find the accuracy on test samples using score() function\n",
    "\n"
   ]
  },
  {
   "cell_type": "code",
   "execution_count": null,
   "metadata": {
    "collapsed": true
   },
   "outputs": [],
   "source": [
    "# For a manual check you can store predicted values in a numpy array \n",
    "# and then use np.column_stack to view them side by side \n",
    "import numpy as np\n",
    "\n",
    "y_pred_test = svm.predict(X_test)\n",
    "np.column_stack([y_pred_test, y_test])"
   ]
  }
 ],
 "metadata": {
  "kernelspec": {
   "display_name": "Python 3",
   "language": "python",
   "name": "python3"
  },
  "language_info": {
   "codemirror_mode": {
    "name": "ipython",
    "version": 3
   },
   "file_extension": ".py",
   "mimetype": "text/x-python",
   "name": "python",
   "nbconvert_exporter": "python",
   "pygments_lexer": "ipython3",
   "version": "3.6.3"
  }
 },
 "nbformat": 4,
 "nbformat_minor": 2
}
